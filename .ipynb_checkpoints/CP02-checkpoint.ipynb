{
 "cells": [
  {
   "cell_type": "markdown",
   "metadata": {},
   "source": [
    "# Classifier"
   ]
  },
  {
   "cell_type": "markdown",
   "metadata": {},
   "source": [
    "### Classification refers to the process of using the characteristics of data to separate it into a certain number of classes.\n",
    "### A supervised learning classifier builds a model using labeled training data and then uses this model to classify unknown data."
   ]
  },
  {
   "cell_type": "code",
   "execution_count": 37,
   "metadata": {
    "scrolled": false
   },
   "outputs": [
    {
     "data": {
      "text/html": [
       "\n",
       "    <div class=\"bk-root\">\n",
       "        <a href=\"https://bokeh.pydata.org\" target=\"_blank\" class=\"bk-logo bk-logo-small bk-logo-notebook\"></a>\n",
       "        <span id=\"0def6052-51c7-40ba-8029-70698f6d80a2\">Loading BokehJS ...</span>\n",
       "    </div>"
      ]
     },
     "metadata": {},
     "output_type": "display_data"
    },
    {
     "data": {
      "application/javascript": [
       "\n",
       "(function(root) {\n",
       "  function now() {\n",
       "    return new Date();\n",
       "  }\n",
       "\n",
       "  var force = true;\n",
       "\n",
       "  if (typeof (root._bokeh_onload_callbacks) === \"undefined\" || force === true) {\n",
       "    root._bokeh_onload_callbacks = [];\n",
       "    root._bokeh_is_loading = undefined;\n",
       "  }\n",
       "\n",
       "  var JS_MIME_TYPE = 'application/javascript';\n",
       "  var HTML_MIME_TYPE = 'text/html';\n",
       "  var EXEC_MIME_TYPE = 'application/vnd.bokehjs_exec.v0+json';\n",
       "  var CLASS_NAME = 'output_bokeh rendered_html';\n",
       "\n",
       "  /**\n",
       "   * Render data to the DOM node\n",
       "   */\n",
       "  function render(props, node) {\n",
       "    var script = document.createElement(\"script\");\n",
       "    node.appendChild(script);\n",
       "  }\n",
       "\n",
       "  /**\n",
       "   * Handle when an output is cleared or removed\n",
       "   */\n",
       "  function handleClearOutput(event, handle) {\n",
       "    var cell = handle.cell;\n",
       "\n",
       "    var id = cell.output_area._bokeh_element_id;\n",
       "    var server_id = cell.output_area._bokeh_server_id;\n",
       "    // Clean up Bokeh references\n",
       "    if (id !== undefined) {\n",
       "      Bokeh.index[id].model.document.clear();\n",
       "      delete Bokeh.index[id];\n",
       "    }\n",
       "\n",
       "    if (server_id !== undefined) {\n",
       "      // Clean up Bokeh references\n",
       "      var cmd = \"from bokeh.io.state import curstate; print(curstate().uuid_to_server['\" + server_id + \"'].get_sessions()[0].document.roots[0]._id)\";\n",
       "      cell.notebook.kernel.execute(cmd, {\n",
       "        iopub: {\n",
       "          output: function(msg) {\n",
       "            var element_id = msg.content.text.trim();\n",
       "            Bokeh.index[element_id].model.document.clear();\n",
       "            delete Bokeh.index[element_id];\n",
       "          }\n",
       "        }\n",
       "      });\n",
       "      // Destroy server and session\n",
       "      var cmd = \"import bokeh.io.notebook as ion; ion.destroy_server('\" + server_id + \"')\";\n",
       "      cell.notebook.kernel.execute(cmd);\n",
       "    }\n",
       "  }\n",
       "\n",
       "  /**\n",
       "   * Handle when a new output is added\n",
       "   */\n",
       "  function handleAddOutput(event, handle) {\n",
       "    var output_area = handle.output_area;\n",
       "    var output = handle.output;\n",
       "\n",
       "    // limit handleAddOutput to display_data with EXEC_MIME_TYPE content only\n",
       "    if ((output.output_type != \"display_data\") || (!output.data.hasOwnProperty(EXEC_MIME_TYPE))) {\n",
       "      return\n",
       "    }\n",
       "\n",
       "    var toinsert = output_area.element.find(\".\" + CLASS_NAME.split(' ')[0]);\n",
       "\n",
       "    if (output.metadata[EXEC_MIME_TYPE][\"id\"] !== undefined) {\n",
       "      toinsert[toinsert.length - 1].firstChild.textContent = output.data[JS_MIME_TYPE];\n",
       "      // store reference to embed id on output_area\n",
       "      output_area._bokeh_element_id = output.metadata[EXEC_MIME_TYPE][\"id\"];\n",
       "    }\n",
       "    if (output.metadata[EXEC_MIME_TYPE][\"server_id\"] !== undefined) {\n",
       "      var bk_div = document.createElement(\"div\");\n",
       "      bk_div.innerHTML = output.data[HTML_MIME_TYPE];\n",
       "      var script_attrs = bk_div.children[0].attributes;\n",
       "      for (var i = 0; i < script_attrs.length; i++) {\n",
       "        toinsert[toinsert.length - 1].firstChild.setAttribute(script_attrs[i].name, script_attrs[i].value);\n",
       "      }\n",
       "      // store reference to server id on output_area\n",
       "      output_area._bokeh_server_id = output.metadata[EXEC_MIME_TYPE][\"server_id\"];\n",
       "    }\n",
       "  }\n",
       "\n",
       "  function register_renderer(events, OutputArea) {\n",
       "\n",
       "    function append_mime(data, metadata, element) {\n",
       "      // create a DOM node to render to\n",
       "      var toinsert = this.create_output_subarea(\n",
       "        metadata,\n",
       "        CLASS_NAME,\n",
       "        EXEC_MIME_TYPE\n",
       "      );\n",
       "      this.keyboard_manager.register_events(toinsert);\n",
       "      // Render to node\n",
       "      var props = {data: data, metadata: metadata[EXEC_MIME_TYPE]};\n",
       "      render(props, toinsert[toinsert.length - 1]);\n",
       "      element.append(toinsert);\n",
       "      return toinsert\n",
       "    }\n",
       "\n",
       "    /* Handle when an output is cleared or removed */\n",
       "    events.on('clear_output.CodeCell', handleClearOutput);\n",
       "    events.on('delete.Cell', handleClearOutput);\n",
       "\n",
       "    /* Handle when a new output is added */\n",
       "    events.on('output_added.OutputArea', handleAddOutput);\n",
       "\n",
       "    /**\n",
       "     * Register the mime type and append_mime function with output_area\n",
       "     */\n",
       "    OutputArea.prototype.register_mime_type(EXEC_MIME_TYPE, append_mime, {\n",
       "      /* Is output safe? */\n",
       "      safe: true,\n",
       "      /* Index of renderer in `output_area.display_order` */\n",
       "      index: 0\n",
       "    });\n",
       "  }\n",
       "\n",
       "  // register the mime type if in Jupyter Notebook environment and previously unregistered\n",
       "  if (root.Jupyter !== undefined) {\n",
       "    var events = require('base/js/events');\n",
       "    var OutputArea = require('notebook/js/outputarea').OutputArea;\n",
       "\n",
       "    if (OutputArea.prototype.mime_types().indexOf(EXEC_MIME_TYPE) == -1) {\n",
       "      register_renderer(events, OutputArea);\n",
       "    }\n",
       "  }\n",
       "\n",
       "  \n",
       "  if (typeof (root._bokeh_timeout) === \"undefined\" || force === true) {\n",
       "    root._bokeh_timeout = Date.now() + 5000;\n",
       "    root._bokeh_failed_load = false;\n",
       "  }\n",
       "\n",
       "  var NB_LOAD_WARNING = {'data': {'text/html':\n",
       "     \"<div style='background-color: #fdd'>\\n\"+\n",
       "     \"<p>\\n\"+\n",
       "     \"BokehJS does not appear to have successfully loaded. If loading BokehJS from CDN, this \\n\"+\n",
       "     \"may be due to a slow or bad network connection. Possible fixes:\\n\"+\n",
       "     \"</p>\\n\"+\n",
       "     \"<ul>\\n\"+\n",
       "     \"<li>re-rerun `output_notebook()` to attempt to load from CDN again, or</li>\\n\"+\n",
       "     \"<li>use INLINE resources instead, as so:</li>\\n\"+\n",
       "     \"</ul>\\n\"+\n",
       "     \"<code>\\n\"+\n",
       "     \"from bokeh.resources import INLINE\\n\"+\n",
       "     \"output_notebook(resources=INLINE)\\n\"+\n",
       "     \"</code>\\n\"+\n",
       "     \"</div>\"}};\n",
       "\n",
       "  function display_loaded() {\n",
       "    var el = document.getElementById(\"0def6052-51c7-40ba-8029-70698f6d80a2\");\n",
       "    if (el != null) {\n",
       "      el.textContent = \"BokehJS is loading...\";\n",
       "    }\n",
       "    if (root.Bokeh !== undefined) {\n",
       "      if (el != null) {\n",
       "        el.textContent = \"BokehJS \" + root.Bokeh.version + \" successfully loaded.\";\n",
       "      }\n",
       "    } else if (Date.now() < root._bokeh_timeout) {\n",
       "      setTimeout(display_loaded, 100)\n",
       "    }\n",
       "  }\n",
       "\n",
       "\n",
       "  function run_callbacks() {\n",
       "    try {\n",
       "      root._bokeh_onload_callbacks.forEach(function(callback) { callback() });\n",
       "    }\n",
       "    finally {\n",
       "      delete root._bokeh_onload_callbacks\n",
       "    }\n",
       "    console.info(\"Bokeh: all callbacks have finished\");\n",
       "  }\n",
       "\n",
       "  function load_libs(js_urls, callback) {\n",
       "    root._bokeh_onload_callbacks.push(callback);\n",
       "    if (root._bokeh_is_loading > 0) {\n",
       "      console.log(\"Bokeh: BokehJS is being loaded, scheduling callback at\", now());\n",
       "      return null;\n",
       "    }\n",
       "    if (js_urls == null || js_urls.length === 0) {\n",
       "      run_callbacks();\n",
       "      return null;\n",
       "    }\n",
       "    console.log(\"Bokeh: BokehJS not loaded, scheduling load and callback at\", now());\n",
       "    root._bokeh_is_loading = js_urls.length;\n",
       "    for (var i = 0; i < js_urls.length; i++) {\n",
       "      var url = js_urls[i];\n",
       "      var s = document.createElement('script');\n",
       "      s.src = url;\n",
       "      s.async = false;\n",
       "      s.onreadystatechange = s.onload = function() {\n",
       "        root._bokeh_is_loading--;\n",
       "        if (root._bokeh_is_loading === 0) {\n",
       "          console.log(\"Bokeh: all BokehJS libraries loaded\");\n",
       "          run_callbacks()\n",
       "        }\n",
       "      };\n",
       "      s.onerror = function() {\n",
       "        console.warn(\"failed to load library \" + url);\n",
       "      };\n",
       "      console.log(\"Bokeh: injecting script tag for BokehJS library: \", url);\n",
       "      document.getElementsByTagName(\"head\")[0].appendChild(s);\n",
       "    }\n",
       "  };var element = document.getElementById(\"0def6052-51c7-40ba-8029-70698f6d80a2\");\n",
       "  if (element == null) {\n",
       "    console.log(\"Bokeh: ERROR: autoload.js configured with elementid '0def6052-51c7-40ba-8029-70698f6d80a2' but no matching script tag was found. \")\n",
       "    return false;\n",
       "  }\n",
       "\n",
       "  var js_urls = [\"https://cdn.pydata.org/bokeh/release/bokeh-0.12.16.min.js\", \"https://cdn.pydata.org/bokeh/release/bokeh-widgets-0.12.16.min.js\", \"https://cdn.pydata.org/bokeh/release/bokeh-tables-0.12.16.min.js\", \"https://cdn.pydata.org/bokeh/release/bokeh-gl-0.12.16.min.js\"];\n",
       "\n",
       "  var inline_js = [\n",
       "    function(Bokeh) {\n",
       "      Bokeh.set_log_level(\"info\");\n",
       "    },\n",
       "    \n",
       "    function(Bokeh) {\n",
       "      \n",
       "    },\n",
       "    function(Bokeh) {\n",
       "      console.log(\"Bokeh: injecting CSS: https://cdn.pydata.org/bokeh/release/bokeh-0.12.16.min.css\");\n",
       "      Bokeh.embed.inject_css(\"https://cdn.pydata.org/bokeh/release/bokeh-0.12.16.min.css\");\n",
       "      console.log(\"Bokeh: injecting CSS: https://cdn.pydata.org/bokeh/release/bokeh-widgets-0.12.16.min.css\");\n",
       "      Bokeh.embed.inject_css(\"https://cdn.pydata.org/bokeh/release/bokeh-widgets-0.12.16.min.css\");\n",
       "      console.log(\"Bokeh: injecting CSS: https://cdn.pydata.org/bokeh/release/bokeh-tables-0.12.16.min.css\");\n",
       "      Bokeh.embed.inject_css(\"https://cdn.pydata.org/bokeh/release/bokeh-tables-0.12.16.min.css\");\n",
       "    }\n",
       "  ];\n",
       "\n",
       "  function run_inline_js() {\n",
       "    \n",
       "    if ((root.Bokeh !== undefined) || (force === true)) {\n",
       "      for (var i = 0; i < inline_js.length; i++) {\n",
       "        inline_js[i].call(root, root.Bokeh);\n",
       "      }if (force === true) {\n",
       "        display_loaded();\n",
       "      }} else if (Date.now() < root._bokeh_timeout) {\n",
       "      setTimeout(run_inline_js, 100);\n",
       "    } else if (!root._bokeh_failed_load) {\n",
       "      console.log(\"Bokeh: BokehJS failed to load within specified timeout.\");\n",
       "      root._bokeh_failed_load = true;\n",
       "    } else if (force !== true) {\n",
       "      var cell = $(document.getElementById(\"0def6052-51c7-40ba-8029-70698f6d80a2\")).parents('.cell').data().cell;\n",
       "      cell.output_area.append_execute_result(NB_LOAD_WARNING)\n",
       "    }\n",
       "\n",
       "  }\n",
       "\n",
       "  if (root._bokeh_is_loading === 0) {\n",
       "    console.log(\"Bokeh: BokehJS loaded, going straight to plotting\");\n",
       "    run_inline_js();\n",
       "  } else {\n",
       "    load_libs(js_urls, function() {\n",
       "      console.log(\"Bokeh: BokehJS plotting callback run at\", now());\n",
       "      run_inline_js();\n",
       "    });\n",
       "  }\n",
       "}(window));"
      ],
      "application/vnd.bokehjs_load.v0+json": "\n(function(root) {\n  function now() {\n    return new Date();\n  }\n\n  var force = true;\n\n  if (typeof (root._bokeh_onload_callbacks) === \"undefined\" || force === true) {\n    root._bokeh_onload_callbacks = [];\n    root._bokeh_is_loading = undefined;\n  }\n\n  \n\n  \n  if (typeof (root._bokeh_timeout) === \"undefined\" || force === true) {\n    root._bokeh_timeout = Date.now() + 5000;\n    root._bokeh_failed_load = false;\n  }\n\n  var NB_LOAD_WARNING = {'data': {'text/html':\n     \"<div style='background-color: #fdd'>\\n\"+\n     \"<p>\\n\"+\n     \"BokehJS does not appear to have successfully loaded. If loading BokehJS from CDN, this \\n\"+\n     \"may be due to a slow or bad network connection. Possible fixes:\\n\"+\n     \"</p>\\n\"+\n     \"<ul>\\n\"+\n     \"<li>re-rerun `output_notebook()` to attempt to load from CDN again, or</li>\\n\"+\n     \"<li>use INLINE resources instead, as so:</li>\\n\"+\n     \"</ul>\\n\"+\n     \"<code>\\n\"+\n     \"from bokeh.resources import INLINE\\n\"+\n     \"output_notebook(resources=INLINE)\\n\"+\n     \"</code>\\n\"+\n     \"</div>\"}};\n\n  function display_loaded() {\n    var el = document.getElementById(\"0def6052-51c7-40ba-8029-70698f6d80a2\");\n    if (el != null) {\n      el.textContent = \"BokehJS is loading...\";\n    }\n    if (root.Bokeh !== undefined) {\n      if (el != null) {\n        el.textContent = \"BokehJS \" + root.Bokeh.version + \" successfully loaded.\";\n      }\n    } else if (Date.now() < root._bokeh_timeout) {\n      setTimeout(display_loaded, 100)\n    }\n  }\n\n\n  function run_callbacks() {\n    try {\n      root._bokeh_onload_callbacks.forEach(function(callback) { callback() });\n    }\n    finally {\n      delete root._bokeh_onload_callbacks\n    }\n    console.info(\"Bokeh: all callbacks have finished\");\n  }\n\n  function load_libs(js_urls, callback) {\n    root._bokeh_onload_callbacks.push(callback);\n    if (root._bokeh_is_loading > 0) {\n      console.log(\"Bokeh: BokehJS is being loaded, scheduling callback at\", now());\n      return null;\n    }\n    if (js_urls == null || js_urls.length === 0) {\n      run_callbacks();\n      return null;\n    }\n    console.log(\"Bokeh: BokehJS not loaded, scheduling load and callback at\", now());\n    root._bokeh_is_loading = js_urls.length;\n    for (var i = 0; i < js_urls.length; i++) {\n      var url = js_urls[i];\n      var s = document.createElement('script');\n      s.src = url;\n      s.async = false;\n      s.onreadystatechange = s.onload = function() {\n        root._bokeh_is_loading--;\n        if (root._bokeh_is_loading === 0) {\n          console.log(\"Bokeh: all BokehJS libraries loaded\");\n          run_callbacks()\n        }\n      };\n      s.onerror = function() {\n        console.warn(\"failed to load library \" + url);\n      };\n      console.log(\"Bokeh: injecting script tag for BokehJS library: \", url);\n      document.getElementsByTagName(\"head\")[0].appendChild(s);\n    }\n  };var element = document.getElementById(\"0def6052-51c7-40ba-8029-70698f6d80a2\");\n  if (element == null) {\n    console.log(\"Bokeh: ERROR: autoload.js configured with elementid '0def6052-51c7-40ba-8029-70698f6d80a2' but no matching script tag was found. \")\n    return false;\n  }\n\n  var js_urls = [\"https://cdn.pydata.org/bokeh/release/bokeh-0.12.16.min.js\", \"https://cdn.pydata.org/bokeh/release/bokeh-widgets-0.12.16.min.js\", \"https://cdn.pydata.org/bokeh/release/bokeh-tables-0.12.16.min.js\", \"https://cdn.pydata.org/bokeh/release/bokeh-gl-0.12.16.min.js\"];\n\n  var inline_js = [\n    function(Bokeh) {\n      Bokeh.set_log_level(\"info\");\n    },\n    \n    function(Bokeh) {\n      \n    },\n    function(Bokeh) {\n      console.log(\"Bokeh: injecting CSS: https://cdn.pydata.org/bokeh/release/bokeh-0.12.16.min.css\");\n      Bokeh.embed.inject_css(\"https://cdn.pydata.org/bokeh/release/bokeh-0.12.16.min.css\");\n      console.log(\"Bokeh: injecting CSS: https://cdn.pydata.org/bokeh/release/bokeh-widgets-0.12.16.min.css\");\n      Bokeh.embed.inject_css(\"https://cdn.pydata.org/bokeh/release/bokeh-widgets-0.12.16.min.css\");\n      console.log(\"Bokeh: injecting CSS: https://cdn.pydata.org/bokeh/release/bokeh-tables-0.12.16.min.css\");\n      Bokeh.embed.inject_css(\"https://cdn.pydata.org/bokeh/release/bokeh-tables-0.12.16.min.css\");\n    }\n  ];\n\n  function run_inline_js() {\n    \n    if ((root.Bokeh !== undefined) || (force === true)) {\n      for (var i = 0; i < inline_js.length; i++) {\n        inline_js[i].call(root, root.Bokeh);\n      }if (force === true) {\n        display_loaded();\n      }} else if (Date.now() < root._bokeh_timeout) {\n      setTimeout(run_inline_js, 100);\n    } else if (!root._bokeh_failed_load) {\n      console.log(\"Bokeh: BokehJS failed to load within specified timeout.\");\n      root._bokeh_failed_load = true;\n    } else if (force !== true) {\n      var cell = $(document.getElementById(\"0def6052-51c7-40ba-8029-70698f6d80a2\")).parents('.cell').data().cell;\n      cell.output_area.append_execute_result(NB_LOAD_WARNING)\n    }\n\n  }\n\n  if (root._bokeh_is_loading === 0) {\n    console.log(\"Bokeh: BokehJS loaded, going straight to plotting\");\n    run_inline_js();\n  } else {\n    load_libs(js_urls, function() {\n      console.log(\"Bokeh: BokehJS plotting callback run at\", now());\n      run_inline_js();\n    });\n  }\n}(window));"
     },
     "metadata": {},
     "output_type": "display_data"
    },
    {
     "data": {
      "text/html": [
       "\n",
       "<div class=\"bk-root\">\n",
       "    <div class=\"bk-plotdiv\" id=\"ea9e2588-65be-4aa3-ba06-ff149f11d771\"></div>\n",
       "</div>"
      ]
     },
     "metadata": {},
     "output_type": "display_data"
    },
    {
     "data": {
      "application/javascript": [
       "(function(root) {\n",
       "  function embed_document(root) {\n",
       "    \n",
       "  var docs_json = {\"f37177c4-d496-48b0-9ede-203db4b201d4\":{\"roots\":{\"references\":[{\"attributes\":{},\"id\":\"c2ab10ee-186f-4714-8a17-23ea1ecc069e\",\"type\":\"LinearScale\"},{\"attributes\":{\"fill_alpha\":{\"value\":0.1},\"fill_color\":{\"value\":\"#1f77b4\"},\"line_alpha\":{\"value\":0.1},\"line_color\":{\"value\":\"#1f77b4\"},\"size\":{\"units\":\"screen\",\"value\":15},\"x\":{\"field\":\"x\"},\"y\":{\"field\":\"y\"}},\"id\":\"1ad4c806-9f20-4305-b4a0-551886c7508f\",\"type\":\"Circle\"},{\"attributes\":{},\"id\":\"4c3ccc7f-0105-4f4f-b5c9-5ba0cef14fd7\",\"type\":\"BasicTickFormatter\"},{\"attributes\":{\"plot\":{\"id\":\"c03be6ed-dbf0-4c55-93b0-e65dcf539020\",\"subtype\":\"Figure\",\"type\":\"Plot\"},\"ticker\":{\"id\":\"dd125e36-f874-4691-96b3-b76ab0974238\",\"type\":\"BasicTicker\"}},\"id\":\"1cdeb945-a51a-4b3d-899a-cc7ad7552009\",\"type\":\"Grid\"},{\"attributes\":{},\"id\":\"d8c2e0fb-9d07-432d-9ec9-1affd1eb11d7\",\"type\":\"UnionRenderers\"},{\"attributes\":{\"source\":{\"id\":\"7ee6448f-8e94-44b9-87fa-87cc57ad91ea\",\"type\":\"ColumnDataSource\"}},\"id\":\"adeaaad7-c79b-4122-88ba-00a22b450d03\",\"type\":\"CDSView\"},{\"attributes\":{},\"id\":\"4c18a0af-8dff-401c-8e06-52f2d829eb14\",\"type\":\"BasicTicker\"},{\"attributes\":{\"below\":[{\"id\":\"e80168a1-ef03-4c5a-8c49-443ad1bf3fcc\",\"type\":\"LinearAxis\"}],\"left\":[{\"id\":\"989afb49-836a-412d-829b-46bad709e11e\",\"type\":\"LinearAxis\"}],\"plot_height\":400,\"plot_width\":800,\"renderers\":[{\"id\":\"e80168a1-ef03-4c5a-8c49-443ad1bf3fcc\",\"type\":\"LinearAxis\"},{\"id\":\"1cdeb945-a51a-4b3d-899a-cc7ad7552009\",\"type\":\"Grid\"},{\"id\":\"989afb49-836a-412d-829b-46bad709e11e\",\"type\":\"LinearAxis\"},{\"id\":\"40899cee-4361-454f-ae75-0bd556144357\",\"type\":\"Grid\"},{\"id\":\"5b6ba556-686d-4b93-a23e-625a634d49ce\",\"type\":\"BoxAnnotation\"},{\"id\":\"330998d5-233a-4f7d-b4c5-c739c96d2286\",\"type\":\"GlyphRenderer\"},{\"id\":\"8211e492-593e-4781-a68f-51c20f878941\",\"type\":\"GlyphRenderer\"},{\"id\":\"5bd0844b-c06f-4b82-8036-76dd16c2f6e4\",\"type\":\"GlyphRenderer\"}],\"title\":{\"id\":\"674c2ba3-20e2-4c9e-92f2-f9c57c3efc0f\",\"type\":\"Title\"},\"toolbar\":{\"id\":\"b5adbc13-c839-403c-b05e-08a17e49ff89\",\"type\":\"Toolbar\"},\"x_range\":{\"id\":\"02355333-08ea-4fd5-a580-49ef7887b19d\",\"type\":\"DataRange1d\"},\"x_scale\":{\"id\":\"d2979dae-4544-41c9-9055-9a8569e0226a\",\"type\":\"LinearScale\"},\"y_range\":{\"id\":\"8c21cc01-759e-44fe-9391-9be1c03576f1\",\"type\":\"DataRange1d\"},\"y_scale\":{\"id\":\"c2ab10ee-186f-4714-8a17-23ea1ecc069e\",\"type\":\"LinearScale\"}},\"id\":\"c03be6ed-dbf0-4c55-93b0-e65dcf539020\",\"subtype\":\"Figure\",\"type\":\"Plot\"},{\"attributes\":{\"data_source\":{\"id\":\"7ee6448f-8e94-44b9-87fa-87cc57ad91ea\",\"type\":\"ColumnDataSource\"},\"glyph\":{\"id\":\"b4c3dc44-0e76-4b76-bcf3-bc52887b912a\",\"type\":\"Circle\"},\"hover_glyph\":null,\"muted_glyph\":null,\"nonselection_glyph\":{\"id\":\"1ad4c806-9f20-4305-b4a0-551886c7508f\",\"type\":\"Circle\"},\"selection_glyph\":null,\"view\":{\"id\":\"adeaaad7-c79b-4122-88ba-00a22b450d03\",\"type\":\"CDSView\"}},\"id\":\"330998d5-233a-4f7d-b4c5-c739c96d2286\",\"type\":\"GlyphRenderer\"},{\"attributes\":{\"formatter\":{\"id\":\"4c3ccc7f-0105-4f4f-b5c9-5ba0cef14fd7\",\"type\":\"BasicTickFormatter\"},\"plot\":{\"id\":\"c03be6ed-dbf0-4c55-93b0-e65dcf539020\",\"subtype\":\"Figure\",\"type\":\"Plot\"},\"ticker\":{\"id\":\"dd125e36-f874-4691-96b3-b76ab0974238\",\"type\":\"BasicTicker\"}},\"id\":\"e80168a1-ef03-4c5a-8c49-443ad1bf3fcc\",\"type\":\"LinearAxis\"},{\"attributes\":{\"dimension\":1,\"plot\":{\"id\":\"c03be6ed-dbf0-4c55-93b0-e65dcf539020\",\"subtype\":\"Figure\",\"type\":\"Plot\"},\"ticker\":{\"id\":\"4c18a0af-8dff-401c-8e06-52f2d829eb14\",\"type\":\"BasicTicker\"}},\"id\":\"40899cee-4361-454f-ae75-0bd556144357\",\"type\":\"Grid\"},{\"attributes\":{},\"id\":\"d2979dae-4544-41c9-9055-9a8569e0226a\",\"type\":\"LinearScale\"},{\"attributes\":{\"formatter\":{\"id\":\"f2e2d3e2-3d48-46e3-8cad-60b1c898d6a5\",\"type\":\"BasicTickFormatter\"},\"plot\":{\"id\":\"c03be6ed-dbf0-4c55-93b0-e65dcf539020\",\"subtype\":\"Figure\",\"type\":\"Plot\"},\"ticker\":{\"id\":\"4c18a0af-8dff-401c-8e06-52f2d829eb14\",\"type\":\"BasicTicker\"}},\"id\":\"989afb49-836a-412d-829b-46bad709e11e\",\"type\":\"LinearAxis\"},{\"attributes\":{},\"id\":\"dd125e36-f874-4691-96b3-b76ab0974238\",\"type\":\"BasicTicker\"},{\"attributes\":{\"callback\":null},\"id\":\"8c21cc01-759e-44fe-9391-9be1c03576f1\",\"type\":\"DataRange1d\"},{\"attributes\":{\"fill_alpha\":{\"value\":0.1},\"fill_color\":{\"value\":\"#1f77b4\"},\"line_alpha\":{\"value\":0.1},\"line_color\":{\"value\":\"#1f77b4\"},\"size\":{\"units\":\"screen\",\"value\":15},\"x\":{\"field\":\"x\"},\"y\":{\"field\":\"y\"}},\"id\":\"e2f59a7e-959c-4783-b70a-9043610e5949\",\"type\":\"Square\"},{\"attributes\":{\"fill_color\":{\"value\":\"black\"},\"size\":{\"units\":\"screen\",\"value\":15},\"x\":{\"field\":\"x\"},\"y\":{\"field\":\"y\"}},\"id\":\"e177438c-d5a9-44cb-8dfd-6aee8508bc21\",\"type\":\"Square\"},{\"attributes\":{\"fill_color\":{\"value\":\"red\"},\"line_color\":{\"value\":\"red\"},\"size\":{\"units\":\"screen\",\"value\":15},\"x\":{\"field\":\"x\"},\"y\":{\"field\":\"y\"}},\"id\":\"b4c3dc44-0e76-4b76-bcf3-bc52887b912a\",\"type\":\"Circle\"},{\"attributes\":{\"line_alpha\":0.1,\"line_color\":\"#1f77b4\",\"line_width\":2,\"x\":{\"field\":\"x\"},\"y\":{\"field\":\"y\"}},\"id\":\"28582097-7029-4e38-874f-a3ead49a5bc5\",\"type\":\"Line\"},{\"attributes\":{\"overlay\":{\"id\":\"5b6ba556-686d-4b93-a23e-625a634d49ce\",\"type\":\"BoxAnnotation\"}},\"id\":\"7c222dae-5c15-48da-b20c-7bd7446afef5\",\"type\":\"BoxZoomTool\"},{\"attributes\":{},\"id\":\"a5f1a9f0-542a-47a5-8731-fde26473342b\",\"type\":\"WheelZoomTool\"},{\"attributes\":{},\"id\":\"53578f70-cb35-4371-9e78-a68af3fd2d02\",\"type\":\"HelpTool\"},{\"attributes\":{},\"id\":\"eea3d685-b312-4dee-a8ce-6c0d05c294b1\",\"type\":\"UnionRenderers\"},{\"attributes\":{},\"id\":\"71c51ba3-5f8c-4b31-8e9b-b05d276efbef\",\"type\":\"PanTool\"},{\"attributes\":{},\"id\":\"12f569a7-46ac-44a8-b303-516c8a8cd878\",\"type\":\"Selection\"},{\"attributes\":{\"bottom_units\":\"screen\",\"fill_alpha\":{\"value\":0.5},\"fill_color\":{\"value\":\"lightgrey\"},\"left_units\":\"screen\",\"level\":\"overlay\",\"line_alpha\":{\"value\":1.0},\"line_color\":{\"value\":\"black\"},\"line_dash\":[4,4],\"line_width\":{\"value\":2},\"plot\":null,\"render_mode\":\"css\",\"right_units\":\"screen\",\"top_units\":\"screen\"},\"id\":\"5b6ba556-686d-4b93-a23e-625a634d49ce\",\"type\":\"BoxAnnotation\"},{\"attributes\":{},\"id\":\"9a3a3b20-e9b9-4571-a6b3-23924b4138e6\",\"type\":\"UnionRenderers\"},{\"attributes\":{\"callback\":null,\"data\":{\"x\":[2,1,3,4],\"y\":[5,8,5,7]},\"selected\":{\"id\":\"f65c574d-ddb5-49d7-aef0-6554f8b67cb9\",\"type\":\"Selection\"},\"selection_policy\":{\"id\":\"d8c2e0fb-9d07-432d-9ec9-1affd1eb11d7\",\"type\":\"UnionRenderers\"}},\"id\":\"1e2538e1-798c-4ee2-8027-fc0ddf0f95e7\",\"type\":\"ColumnDataSource\"},{\"attributes\":{\"data_source\":{\"id\":\"1e2538e1-798c-4ee2-8027-fc0ddf0f95e7\",\"type\":\"ColumnDataSource\"},\"glyph\":{\"id\":\"e177438c-d5a9-44cb-8dfd-6aee8508bc21\",\"type\":\"Square\"},\"hover_glyph\":null,\"muted_glyph\":null,\"nonselection_glyph\":{\"id\":\"e2f59a7e-959c-4783-b70a-9043610e5949\",\"type\":\"Square\"},\"selection_glyph\":null,\"view\":{\"id\":\"9304789b-8da9-4adf-8e06-196204122e1c\",\"type\":\"CDSView\"}},\"id\":\"8211e492-593e-4781-a68f-51c20f878941\",\"type\":\"GlyphRenderer\"},{\"attributes\":{},\"id\":\"f2e2d3e2-3d48-46e3-8cad-60b1c898d6a5\",\"type\":\"BasicTickFormatter\"},{\"attributes\":{},\"id\":\"136e1d7a-8f53-4a29-a21b-9b3843c97210\",\"type\":\"ResetTool\"},{\"attributes\":{\"data_source\":{\"id\":\"da5a7979-db8e-4e69-83d2-e4eb871cc651\",\"type\":\"ColumnDataSource\"},\"glyph\":{\"id\":\"0da773e9-d8e1-4eae-b4a6-9df7ba39f760\",\"type\":\"Line\"},\"hover_glyph\":null,\"muted_glyph\":null,\"nonselection_glyph\":{\"id\":\"28582097-7029-4e38-874f-a3ead49a5bc5\",\"type\":\"Line\"},\"selection_glyph\":null,\"view\":{\"id\":\"13a8bf70-2e0b-45ca-9063-b626f41c04fb\",\"type\":\"CDSView\"}},\"id\":\"5bd0844b-c06f-4b82-8036-76dd16c2f6e4\",\"type\":\"GlyphRenderer\"},{\"attributes\":{\"callback\":null},\"id\":\"02355333-08ea-4fd5-a580-49ef7887b19d\",\"type\":\"DataRange1d\"},{\"attributes\":{},\"id\":\"b60946f1-1876-4b86-b09a-ab8ee30f3a8e\",\"type\":\"SaveTool\"},{\"attributes\":{\"callback\":null,\"data\":{\"x\":[0,1,2,3,4,5,6,7,8,9],\"y\":[0,1,2,3,4,5,6,7,8,9]},\"selected\":{\"id\":\"12f569a7-46ac-44a8-b303-516c8a8cd878\",\"type\":\"Selection\"},\"selection_policy\":{\"id\":\"9a3a3b20-e9b9-4571-a6b3-23924b4138e6\",\"type\":\"UnionRenderers\"}},\"id\":\"da5a7979-db8e-4e69-83d2-e4eb871cc651\",\"type\":\"ColumnDataSource\"},{\"attributes\":{\"source\":{\"id\":\"1e2538e1-798c-4ee2-8027-fc0ddf0f95e7\",\"type\":\"ColumnDataSource\"}},\"id\":\"9304789b-8da9-4adf-8e06-196204122e1c\",\"type\":\"CDSView\"},{\"attributes\":{\"plot\":null,\"text\":\"\"},\"id\":\"674c2ba3-20e2-4c9e-92f2-f9c57c3efc0f\",\"type\":\"Title\"},{\"attributes\":{},\"id\":\"378b8830-fb2f-480d-bf4d-6b26a82f1251\",\"type\":\"Selection\"},{\"attributes\":{\"source\":{\"id\":\"da5a7979-db8e-4e69-83d2-e4eb871cc651\",\"type\":\"ColumnDataSource\"}},\"id\":\"13a8bf70-2e0b-45ca-9063-b626f41c04fb\",\"type\":\"CDSView\"},{\"attributes\":{\"line_width\":2,\"x\":{\"field\":\"x\"},\"y\":{\"field\":\"y\"}},\"id\":\"0da773e9-d8e1-4eae-b4a6-9df7ba39f760\",\"type\":\"Line\"},{\"attributes\":{},\"id\":\"f65c574d-ddb5-49d7-aef0-6554f8b67cb9\",\"type\":\"Selection\"},{\"attributes\":{\"callback\":null,\"data\":{\"x\":[3,6,5,4],\"y\":[1,4,2,-1]},\"selected\":{\"id\":\"378b8830-fb2f-480d-bf4d-6b26a82f1251\",\"type\":\"Selection\"},\"selection_policy\":{\"id\":\"eea3d685-b312-4dee-a8ce-6c0d05c294b1\",\"type\":\"UnionRenderers\"}},\"id\":\"7ee6448f-8e94-44b9-87fa-87cc57ad91ea\",\"type\":\"ColumnDataSource\"},{\"attributes\":{\"active_drag\":\"auto\",\"active_inspect\":\"auto\",\"active_scroll\":\"auto\",\"active_tap\":\"auto\",\"tools\":[{\"id\":\"71c51ba3-5f8c-4b31-8e9b-b05d276efbef\",\"type\":\"PanTool\"},{\"id\":\"a5f1a9f0-542a-47a5-8731-fde26473342b\",\"type\":\"WheelZoomTool\"},{\"id\":\"7c222dae-5c15-48da-b20c-7bd7446afef5\",\"type\":\"BoxZoomTool\"},{\"id\":\"b60946f1-1876-4b86-b09a-ab8ee30f3a8e\",\"type\":\"SaveTool\"},{\"id\":\"136e1d7a-8f53-4a29-a21b-9b3843c97210\",\"type\":\"ResetTool\"},{\"id\":\"53578f70-cb35-4371-9e78-a68af3fd2d02\",\"type\":\"HelpTool\"}]},\"id\":\"b5adbc13-c839-403c-b05e-08a17e49ff89\",\"type\":\"Toolbar\"}],\"root_ids\":[\"c03be6ed-dbf0-4c55-93b0-e65dcf539020\"]},\"title\":\"Bokeh Application\",\"version\":\"0.12.16\"}};\n",
       "  var render_items = [{\"docid\":\"f37177c4-d496-48b0-9ede-203db4b201d4\",\"elementid\":\"ea9e2588-65be-4aa3-ba06-ff149f11d771\",\"modelid\":\"c03be6ed-dbf0-4c55-93b0-e65dcf539020\"}];\n",
       "  root.Bokeh.embed.embed_items_notebook(docs_json, render_items);\n",
       "\n",
       "  }\n",
       "  if (root.Bokeh !== undefined) {\n",
       "    embed_document(root);\n",
       "  } else {\n",
       "    var attempts = 0;\n",
       "    var timer = setInterval(function(root) {\n",
       "      if (root.Bokeh !== undefined) {\n",
       "        embed_document(root);\n",
       "        clearInterval(timer);\n",
       "      }\n",
       "      attempts++;\n",
       "      if (attempts > 100) {\n",
       "        console.log(\"Bokeh: ERROR: Unable to run BokehJS code because BokehJS library is missing\")\n",
       "        clearInterval(timer);\n",
       "      }\n",
       "    }, 10, root)\n",
       "  }\n",
       "})(window);"
      ],
      "application/vnd.bokehjs_exec.v0+json": ""
     },
     "metadata": {
      "application/vnd.bokehjs_exec.v0+json": {
       "id": "c03be6ed-dbf0-4c55-93b0-e65dcf539020"
      }
     },
     "output_type": "display_data"
    }
   ],
   "source": [
    "#Simple Regression Claissifer\n",
    "import numpy as np\n",
    "from bokeh.io import output_notebook, show\n",
    "from bokeh.plotting import figure\n",
    "output_notebook()\n",
    "X = np.array([[3,1], [2,5], [1,8], [6,4], [5,2], [3,5], [4,7],[4,-1]])\n",
    "y = [0, 1, 1, 0, 0, 1, 1, 0]\n",
    "class_0 = np.array([X[i] for i in range(len(X)) if y[i]==0])\n",
    "class_1 = np.array([X[i] for i in range(len(X)) if y[i]==1])\n",
    "\n",
    "plt = figure(plot_width=800, plot_height=400)\n",
    "\n",
    "plt.circle(class_0[:,0], class_0[:,1], color='red', size=15)\n",
    "plt.square(class_1[:,0], class_1[:,1], color='black', size=15)\n",
    "line_x = range(10)\n",
    "line_y = line_x\n",
    "plt.line(line_x, line_y, color='black', line_width=2)\n",
    "show(plt)"
   ]
  },
  {
   "cell_type": "markdown",
   "metadata": {},
   "source": [
    "## Logistic Regression\n",
    "### Despite the word regression being present in the name, logistic regression is actually used for classification purposes. Given a set of datapoints, our goal is to build a model that can draw linear boundaries between our classes. It extracts these boundaries by solving a set of equations derived from the training data."
   ]
  },
  {
   "cell_type": "code",
   "execution_count": 98,
   "metadata": {
    "scrolled": false
   },
   "outputs": [
    {
     "data": {
      "image/png": "[encoded data removed]",
      "text/plain": [
       "<Figure size 432x288 with 1 Axes>"
      ]
     },
     "metadata": {},
     "output_type": "display_data"
    }
   ],
   "source": [
    "import numpy as np\n",
    "from sklearn import linear_model\n",
    "from bokeh.io import output_notebook,show\n",
    "from bokeh.plotting import figure\n",
    "plt = figure(plot_width=800, plot_height=400)\n",
    "import matplotlib.pyplot as plt\n",
    "\n",
    "X = np.array([[4, 7], [3.5, 8], [3.1, 6.2], [0.5, 1], [1, 2],[1.2, 1.9], [6, 2], [5.7, 1.5], [5.4, 2.2],[10,10],[9,9]])\n",
    "y = np.array([0, 0, 0, 1, 1, 1, 2, 2, 2,3,1])\n",
    "classifier = linear_model.LogisticRegression(solver='liblinear',C=100000)\n",
    "classifier.fit(X, y)\n",
    "\n",
    "def plot_classifier(classifier,X,y):\n",
    "# define ranges to plot the figure\n",
    "    x_min, x_max = min(X[:, 0])- 1.0, max(X[:, 0]) + 1.0\n",
    "    y_min, y_max = min(X[:, 1])- 1.0, max(X[:, 1]) + 1.0\n",
    "    step_size = 0.02\n",
    "    x_values, y_values = np.meshgrid(np.arange(x_min, x_max, step_size), np.arange(y_min, y_max, step_size))\n",
    "    mesh_output = classifier.predict(np.c_[x_values.ravel(), y_values.ravel()])\n",
    "    mesh_output = mesh_output.reshape(x_values.shape)\n",
    "    plt.figure()\n",
    "    plt.pcolormesh(x_values, y_values, mesh_output)\n",
    "    plt.scatter(X[:, 0], X[:, 1], c=y, s=80, edgecolors='black',linewidth=1, cmap=plt.cm.Paired)\n",
    "    plt.xlim(x_values.min(), x_values.max())\n",
    "    plt.ylim(y_values.min(), y_values.max())\n",
    "    plt.xticks((np.arange(int(min(X[:, 0])-1), int(max(X[:,0])+1), 1.0)))\n",
    "    plt.yticks((np.arange(int(min(X[:, 1])-1), int(max(X[:,1])+1), 1.0)))\n",
    "    plt.show()\n",
    "    \n",
    "plot_classifier(classifier, X,y)"
   ]
  },
  {
   "cell_type": "code",
   "execution_count": 114,
   "metadata": {},
   "outputs": [
    {
     "name": "stdout",
     "output_type": "stream",
     "text": [
      "[0.         1.33333333 2.66666667 4.        ] [0.         1.33333333 2.66666667 4.        ]\n",
      "[array([[0.        , 1.33333333, 2.66666667, 4.        ],\n",
      "       [0.        , 1.33333333, 2.66666667, 4.        ],\n",
      "       [0.        , 1.33333333, 2.66666667, 4.        ],\n",
      "       [0.        , 1.33333333, 2.66666667, 4.        ]]), array([[0.        , 0.        , 0.        , 0.        ],\n",
      "       [1.33333333, 1.33333333, 1.33333333, 1.33333333],\n",
      "       [2.66666667, 2.66666667, 2.66666667, 2.66666667],\n",
      "       [4.        , 4.        , 4.        , 4.        ]])]\n",
      "[0.         1.33333333 2.66666667 4.         0.         1.33333333\n",
      " 2.66666667 4.         0.         1.33333333 2.66666667 4.\n",
      " 0.         1.33333333 2.66666667 4.        ]\n",
      "[[0.         0.        ]\n",
      " [1.33333333 0.        ]\n",
      " [2.66666667 0.        ]\n",
      " [4.         0.        ]\n",
      " [0.         1.33333333]\n",
      " [1.33333333 1.33333333]\n",
      " [2.66666667 1.33333333]\n",
      " [4.         1.33333333]\n",
      " [0.         2.66666667]\n",
      " [1.33333333 2.66666667]\n",
      " [2.66666667 2.66666667]\n",
      " [4.         2.66666667]\n",
      " [0.         4.        ]\n",
      " [1.33333333 4.        ]\n",
      " [2.66666667 4.        ]\n",
      " [4.         4.        ]]\n"
     ]
    },
    {
     "data": {
      "text/plain": [
       "<matplotlib.collections.PathCollection at 0x7fe790665f60>"
      ]
     },
     "execution_count": 114,
     "metadata": {},
     "output_type": "execute_result"
    },
    {
     "data": {
      "image/png": "[encoded data removed]",
      "text/plain": [
       "<Figure size 432x288 with 1 Axes>"
      ]
     },
     "metadata": {},
     "output_type": "display_data"
    }
   ],
   "source": [
    "nx, ny = (3, 2)\n",
    "x = np.linspace(0, 4, 4)\n",
    "y = np.linspace(0, 4, 4)\n",
    "print(x,y)\n",
    "print(np.meshgrid(x, y))\n",
    "x,y=np.meshgrid(x, y)\n",
    "print(x.ravel())\n",
    "print(np.c_[x.ravel(), y.ravel()])\n",
    "plt.scatter(x,y, edgecolors='black',linewidth=1, cmap=plt.cm.Paired)"
   ]
  },
  {
   "cell_type": "code",
   "execution_count": 159,
   "metadata": {},
   "outputs": [
    {
     "data": {
      "image/png": "[encoded data removed]",
      "text/plain": [
       "<Figure size 432x288 with 1 Axes>"
      ]
     },
     "metadata": {},
     "output_type": "display_data"
    },
    {
     "data": {
      "text/plain": [
       "array([[106,   8],\n",
       "       [  3,  18]])"
      ]
     },
     "execution_count": 159,
     "metadata": {},
     "output_type": "execute_result"
    }
   ],
   "source": [
    "##Example https://towardsdatascience.com/real-world-implementation-of-logistic-regression-5136cefb8125\n",
    "import numpy as np\n",
    "import pandas as pd\n",
    "from sklearn.model_selection import train_test_split\n",
    "from sklearn.linear_model import LogisticRegression\n",
    "from sklearn import metrics\n",
    "import matplotlib.pyplot as plt\n",
    "import seaborn as sns\n",
    "%matplotlib inline\n",
    "kidDataset = pd.read_csv(\"Kid.csv\")\n",
    "kidDataset.head()\n",
    "kidDataset=kidDataset.drop(columns=['Obs No.'])\n",
    "kidDataset.isnull().sum()\n",
    "kidDataset.Buy.value_counts()\n",
    "sns.countplot(x = 'Buy', data = kidDataset, palette = 'hls')\n",
    "plt.show()\n",
    "X = kidDataset[['Income', 'Is Female', 'Is Married', 'Has College', 'Is Professional', 'Is Retired', 'Unemployed', 'Residence Length', 'Dual Income','Minors','Own', 'House','White',\n",
    "'English', 'Prev Child Mag', 'Prev Parent Mag']]\n",
    "y = kidDataset['Buy']\n",
    "X_train,X_test,y_train,y_test=train_test_split(X,y,test_size=0.20,random_state=0)\n",
    "logreg = LogisticRegression()\n",
    "logreg.fit(X_train,y_train)\n",
    "y_pred=logreg.predict(X_test)\n",
    "cnf_matrix = metrics.confusion_matrix(y_test, y_pred)\n",
    "cnf_matrix"
   ]
  },
  {
   "cell_type": "markdown",
   "metadata": {},
   "source": [
    "### Model Evaluation using Confusion Matrix\n",
    "#### Let’s talk about the confusion matrix little bit. A confusion matrix is a table that is often used to describe the performance of a classification model on a set of test data for which the true values are known.\n",
    "#### Few terms to remember in the context of confusion matrix, refer the table below:\n",
    "#### true positives (TP): These are cases in which we predicted yes and are actually yes.\n",
    "#### true negatives (TN): We predicted no, and no in actual.\n",
    "#### false positives (FP): We predicted yes, but actual is no. (Type I error)\n",
    "#### false negatives (FN): We predicted no, yes in actual. (Type II error)\n",
    "\n",
    "### Confusion matrix\n",
    "#### There is also a list of rates that are often computed from a confusion matrix for a binary classifier:\n",
    "#### Accuracy: Overall, how often is the classifier correct?\n",
    "#### Accuracy = (TP+TN)/total\n",
    "#### Misclassification Rate(Error Rate): Overall, how often is it wrong?\n",
    "#### Misclassification Rate = (FP+FN)/total\n",
    "#### True Positive Rate(Sensitivity or Recall): When it’s actually yes, how often does it predict yes?\n",
    "#### True Positive Rate = TP/actual yes\n",
    "#### False Positive Rate: When it’s actually no, how often does it predict yes?\n",
    "#### False Positive Rate=FP/actual no\n",
    "#### True Negative Rate(Specificity): When it’s actually no, how often does it predict no?\n",
    "#### True Negative Rate=TN/actual no\n",
    "#### Precision: When it predicts yes, how often is it correct?\n",
    "#### Precision=TP/predicted yes\n",
    "#### Prevalence: How often does the yes condition actually occur in our sample?\n",
    "#### Prevalence=actual yes/total"
   ]
  },
  {
   "cell_type": "code",
   "execution_count": 160,
   "metadata": {},
   "outputs": [
    {
     "name": "stdout",
     "output_type": "stream",
     "text": [
      "Accuracy: 0.9185185185185185\n",
      "Precision: 0.6923076923076923\n",
      "Recall: 0.8571428571428571\n"
     ]
    },
    {
     "data": {
      "image/png": "[encoded data removed]",
      "text/plain": [
       "<Figure size 432x288 with 2 Axes>"
      ]
     },
     "metadata": {},
     "output_type": "display_data"
    }
   ],
   "source": [
    "fig, ax = plt.subplots()\n",
    "class_names=['TP','TN','FP','FN']\n",
    "tick_marks = np.arange(len(class_names))\n",
    "plt.xticks(tick_marks, class_names)\n",
    "plt.yticks(tick_marks, class_names)\n",
    "sns.heatmap(pd.DataFrame(cnf_matrix), annot=True, cmap=\"viridis\" ,fmt='g')\n",
    "ax.xaxis.set_label_position(\"top\")\n",
    "plt.tight_layout()\n",
    "plt.title('Confusion matrix', y=1.1)\n",
    "plt.ylabel('Actual label')\n",
    "plt.xlabel('Predicted label')\n",
    "print(\"Accuracy:\",metrics.accuracy_score(y_test, y_pred))\n",
    "print(\"Precision:\",metrics.precision_score(y_test, y_pred))\n",
    "print(\"Recall:\",metrics.recall_score(y_test, y_pred))"
   ]
  },
  {
   "cell_type": "markdown",
   "metadata": {},
   "source": [
    "### ROC Curve\n",
    "#### Receiver Operating Characteristic(ROC) curve is a plot of the true positive rate(Recall) against the false positive rate. It shows the tradeoff between sensitivity and specificity."
   ]
  },
  {
   "cell_type": "code",
   "execution_count": 161,
   "metadata": {},
   "outputs": [
    {
     "data": {
      "image/png": "[encoded data removed]",
      "text/plain": [
       "<Figure size 432x288 with 1 Axes>"
      ]
     },
     "metadata": {},
     "output_type": "display_data"
    }
   ],
   "source": [
    "y_pred_proba = logreg.predict_proba(X_test)[::,1]\n",
    "fpr, tpr, _ = metrics.roc_curve(y_test,  y_pred_proba)\n",
    "auc = metrics.roc_auc_score(y_test, y_pred_proba)\n",
    "plt.plot(fpr,tpr,label=\"data 1, auc=\"+str(auc))\n",
    "plt.legend(loc=4)\n",
    "plt.show()"
   ]
  },
  {
   "cell_type": "markdown",
   "metadata": {},
   "source": [
    "#### A Multiclass logistic regression "
   ]
  },
  {
   "cell_type": "code",
   "execution_count": 189,
   "metadata": {},
   "outputs": [
    {
     "data": {
      "image/png": "[encoded data removed]",
      "text/plain": [
       "<Figure size 432x288 with 1 Axes>"
      ]
     },
     "metadata": {},
     "output_type": "display_data"
    },
    {
     "name": "stdout",
     "output_type": "stream",
     "text": [
      "Accuracy: 0.9741784037558685\n",
      "Area under curve :  0.9572285098184548\n"
     ]
    }
   ],
   "source": [
    "import pandas as pd\n",
    "from sklearn.model_selection import train_test_split\n",
    "from sklearn.linear_model import LogisticRegression\n",
    "from sklearn.preprocessing import LabelBinarizer\n",
    "from sklearn.metrics import roc_auc_score\n",
    "\n",
    "from sklearn import metrics\n",
    "data=pd.read_excel('CTG.xls',sheet_name='Raw Data')\n",
    "dataset_rmvCol = data.drop(columns=['FileName', 'SegFile', 'Date'])\n",
    "finaldata = dataset_rmvCol.dropna()\n",
    "sns.countplot(x = 'NSP', data = finaldata, palette = 'hls')\n",
    "plt.show()\n",
    "X = finaldata[['b', 'e', 'LBE', 'LB', 'AC', 'FM', 'UC', 'ASTV', 'MSTV', 'ALTV', 'MLTV','DL', 'DS', 'DP', 'DR', 'Width', 'Min', 'Max', 'Nmax','Nzeros', 'Mode', 'Mean', 'Median', 'Variance', 'Tendency', 'A', 'B', 'C', 'D', 'E', 'AD', 'DE', 'LD', 'FS', 'SUSP', 'CLASS']]\n",
    "y = finaldata['NSP']\n",
    "x_train,x_test,y_train,y_test=train_test_split(X,y,train_size=0.8,test_size=.2,random_state=0)\n",
    "logreg = LogisticRegression().fit(x_train,y_train)\n",
    "y_pred=logreg.predict(x_test)\n",
    "metrics.confusion_matrix(y_test,y_pred)\n",
    "print(\"Accuracy:\",metrics.accuracy_score(y_test, y_pred))\n",
    "def multiclass_roc_auc_score(y_test, y_pred, average=\"macro\"):\n",
    "    lb = LabelBinarizer()\n",
    "    lb.fit(y_test)\n",
    "    y_test = lb.transform(y_test)\n",
    "    y_pred = lb.transform(y_pred)\n",
    "    return roc_auc_score(y_test, y_pred, average=average)\n",
    "auc = multiclass_roc_auc_score(y_test, y_pred, average=\"macro\")\n",
    "print(\"Area under curve : \", auc)"
   ]
  },
  {
   "cell_type": "markdown",
   "metadata": {},
   "source": [
    "### Advantages and Disadvantages of Logistic Regression\n",
    "### Advantages :\n",
    "#### It is a widely used technique because it is very efficient, does not require too many computational resources, it’s highly interpretable, it doesn’t require input features to be scaled, it doesn’t require any tuning, it’s easy to regularize, and it outputs well-calibrated predicted probabilities.\n",
    "#### Logistic regression does work better when you remove attributes that are unrelated to the output variable as well as attributes that are very similar (correlated) to each other. Therefore Feature Engineering plays an important role in regards to the performance of Logistic and also Linear Regression.\n",
    "#### Because of its simplicity and the fact that it can be implemented relatively easy and quick, Logistic Regression is also a good baseline that you can use to measure the performance of other more complex Algorithms.\n",
    "### Disadvantages :\n",
    "#### Logistic Regression is also not one of the most powerful algorithms out there and can be easily outperformed by more complex ones.\n",
    "#### Also, we can’t solve non-linear problems with logistic regression since it’s decision surface is linear.\n",
    "#### Logistic regression will not perform well with independent variables that are not correlated to the target variable and are very similar or correlated to each other."
   ]
  }
 ],
 "metadata": {
  "kernelspec": {
   "display_name": "Python 3",
   "language": "python",
   "name": "python3"
  },
  "language_info": {
   "codemirror_mode": {
    "name": "ipython",
    "version": 3
   },
   "file_extension": ".py",
   "mimetype": "text/x-python",
   "name": "python",
   "nbconvert_exporter": "python",
   "pygments_lexer": "ipython3",
   "version": "3.6.5"
  }
 },
 "nbformat": 4,
 "nbformat_minor": 2
}
